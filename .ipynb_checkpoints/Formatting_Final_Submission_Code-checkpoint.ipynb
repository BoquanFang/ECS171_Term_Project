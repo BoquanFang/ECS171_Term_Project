{
 "cells": [
  {
   "cell_type": "markdown",
   "id": "722d0f66",
   "metadata": {},
   "source": [
    "# Introduction\n",
    "This will essentially be how the final model should look like on the interface. We want to make it so that we can just run this one program to get our entire interface and model. \n",
    "\n",
    "This will keep our project organized when we try to keep the final model."
   ]
  },
  {
   "cell_type": "code",
   "execution_count": 82,
   "id": "bb3aeda6",
   "metadata": {},
   "outputs": [],
   "source": [
    "# Libraries - Any and all libraries should be gathered at the top here\n",
    "\n",
    "import pandas as pd  # dataset\n",
    "import seaborn as sns  #visualization (plottings)\n",
    "import matplotlib.pyplot as plt  #visualization\n",
    "import numpy as np  # arrays, algebra, dealing with numbers\n",
    "from sklearn.preprocessing import normalize\n",
    "from sklearn.model_selection import train_test_split\n",
    "from sklearn.neighbors import KNeighborsClassifier\n",
    "from sklearn.metrics import mean_squared_error, accuracy_score, precision_score, recall_score"
   ]
  },
  {
   "cell_type": "code",
   "execution_count": 83,
   "id": "7710853e",
   "metadata": {},
   "outputs": [],
   "source": [
    "# from flask import Flask, render_template, request\n",
    "# import requests\n",
    "# import re\n",
    "# import spotipy\n",
    "# import csv\n",
    "# from spotipy.oauth2 import SpotifyClientCredentials\n",
    "\n",
    "# app = Flask(__name__)\n",
    "\n",
    "\n",
    "# @app.route('/')\n",
    "# def index():\n",
    "#     return render_template('index.html')\n",
    "\n",
    "\n",
    "\n",
    "\n",
    "# @app.route('/get_songs', methods=['POST'])\n",
    "# def get_songs():\n",
    "#     # Get the playlist URL from the form on the webpage\n",
    "#     playlist_url = request.form['playlist_url']\n",
    "\n",
    "#     # Extract the playlist ID from the URL\n",
    "#     match = re.search('(https://open.spotify.com/playlist/)(\\w+)(\\?.*|$)', playlist_url)\n",
    "#     playlist_id = match.group(2)\n",
    "\n",
    "#     # Get an access token for the Spotify Web API\n",
    "#     client_id = '59716ee804104ee7b913e244cc67fd55'\n",
    "#     client_secret = 'ed17be9c7e0d44838de69ec300b36849'\n",
    "#     auth_url = 'https://accounts.spotify.com/api/token'\n",
    "#     auth_response = requests.post(auth_url, {\n",
    "#         'grant_type': 'client_credentials',\n",
    "#         'client_id': client_id,\n",
    "#         'client_secret': client_secret,\n",
    "#     })\n",
    "#     auth_response_data = auth_response.json()\n",
    "#     access_token = auth_response_data['access_token']\n",
    "\n",
    "#     # Use the access token to get the playlist data\n",
    "#     api_url = f'https://api.spotify.com/v1/playlists/{playlist_id}/tracks'\n",
    "#     headers = {'Authorization': f'Bearer {access_token}'}\n",
    "#     response = requests.get(api_url, headers=headers)\n",
    "#     response_data = response.json()\n",
    "\n",
    "#     # Get the song names and audio features from the playlist data\n",
    "#     song_names = []\n",
    "#     audio_features = []\n",
    "#     sp = spotipy.Spotify(auth=access_token)\n",
    "#     for item in response_data['items']:\n",
    "#         track_uri = item['track']['uri']\n",
    "#         track_name = item['track']['name']\n",
    "#         song_names.append(track_name)\n",
    "#         audio_features.append(sp.audio_features(track_uri)[0])\n",
    "\n",
    "#     # Write the song data to a CSV file\n",
    "#     with open('songs.csv', 'w', newline='') as file:\n",
    "#         writer = csv.writer(file)\n",
    "#         writer.writerow(['Name', 'Danceability', 'Energy', 'Key', 'Loudness', 'Mode', 'Speechiness', 'Acousticness', 'Instrumentalness', 'Liveness', 'Valence', 'Tempo', 'Duration (ms)'])\n",
    "#         for name, features in zip(song_names, audio_features):\n",
    "#             writer.writerow([name, features['danceability'], features['energy'], features['key'], features['loudness'], features['mode'], features['speechiness'], features['acousticness'], features['instrumentalness'], features['liveness'], features['valence'], features['tempo'], features['duration_ms']])\n",
    "\n",
    "#     # Render the song data on a new webpage\n",
    "#     return render_template('songs.html', song_names=song_names, audio_features=audio_features, zip=zip)\n",
    "\n",
    "\n",
    "\n",
    "# if __name__ == '__main__':\n",
    "#     app.run(debug=True)\n"
   ]
  },
  {
   "cell_type": "markdown",
   "id": "b8105483",
   "metadata": {},
   "source": [
    "# Part 1 - Interface Design\n",
    "This part is responsible for the look of the interface and where all buttons go. We will worry about this at the end."
   ]
  },
  {
   "cell_type": "code",
   "execution_count": null,
   "id": "53414f50",
   "metadata": {},
   "outputs": [],
   "source": []
  },
  {
   "cell_type": "code",
   "execution_count": null,
   "id": "9c406967",
   "metadata": {},
   "outputs": [],
   "source": []
  },
  {
   "cell_type": "markdown",
   "id": "9230bef1",
   "metadata": {},
   "source": [
    "# Part 2 - Interface Input\n",
    "The first part of the final submission should be taking the link and gathering the song data on the songs from the spotify playlist"
   ]
  },
  {
   "cell_type": "markdown",
   "id": "2548f359",
   "metadata": {},
   "source": [
    "## Part 2.1 --> Taking in the input\n",
    "This section is for reading the link. Create cells under this for code in relation to the link\n",
    "\n",
    "In addition, let's see if we can get the data on a singular song from its spotify link"
   ]
  },
  {
   "cell_type": "code",
   "execution_count": null,
   "id": "04035c3a",
   "metadata": {},
   "outputs": [],
   "source": []
  },
  {
   "cell_type": "markdown",
   "id": "376bcb32",
   "metadata": {},
   "source": [
    "## Part 2.2 - Gathering the data\n",
    "This section is actually using the link and scraping the playlist for the song details (maybe use the API)\n",
    "\n",
    "Additional thought - should we have user verify the playlist the code returns? if this playlist is wrong, how will we deal with that situation?"
   ]
  },
  {
   "cell_type": "code",
   "execution_count": null,
   "id": "17ecc423",
   "metadata": {},
   "outputs": [],
   "source": []
  },
  {
   "cell_type": "markdown",
   "id": "54d9e390",
   "metadata": {},
   "source": [
    "## Part 2.3 - The Scraped Dataset\n",
    "Take the songs from the link and gather their data using the API\n",
    "Not sure if you can scrape only certain information, or if you scrape all the data for the song using the API. We can work around that later. "
   ]
  },
  {
   "cell_type": "code",
   "execution_count": null,
   "id": "f485cb66",
   "metadata": {},
   "outputs": [],
   "source": []
  },
  {
   "cell_type": "markdown",
   "id": "4d14862c",
   "metadata": {},
   "source": [
    "# Part 3 - Cleaning the Data and Running the Model\n",
    "This section is responsible for data cleaning from the orignal dataset (ie. directly from what we scrape). \n",
    "\n",
    "We will then run the KNN model (This will need to be rechanged from when we get part 2 completed from what we have right now)\n",
    "We are taking a prior based on the 20K songs we have. Maybe we can have some bayesian theory here for getting an output. But more on that later. \n",
    "\n",
    "\n",
    "https://towardsdatascience.com/how-to-use-pairwise-correlation-for-robust-feature-selection-20a60ef7d10#:~:text=The%20quickest%20and%20often%20the,numeric%20features%20in%20the%20dataset.\n",
    "\n",
    "This source is useful for later formatting of data. Please do not remove the link."
   ]
  },
  {
   "cell_type": "markdown",
   "id": "59c39f3b",
   "metadata": {},
   "source": [
    "## Part 3.1 - Cleaning the Data for the model features\n",
    "This section is for taking the given dataset, blinding the data, and normalizing it for our necessary means. We will also do this for the test data point (our new song). This is essential for our model to work on any given playlist. We need to make this as ready to accept as many test cases as possible.\n",
    "\n",
    "Essentially, KNN is trained onto the given playlist and then our test data is the new song. If the actual for the Y is not equal to the predicted for the Y, we will say the song is not a good fit for the playlist."
   ]
  },
  {
   "cell_type": "code",
   "execution_count": 84,
   "id": "51d30ab4",
   "metadata": {},
   "outputs": [
    {
     "data": {
      "text/plain": [
       "['Name',\n",
       " 'Danceability',\n",
       " 'Energy',\n",
       " 'Key',\n",
       " 'Loudness',\n",
       " 'Mode',\n",
       " 'Speechiness',\n",
       " 'Acousticness',\n",
       " 'Instrumentalness',\n",
       " 'Liveness',\n",
       " 'Valence',\n",
       " 'Tempo',\n",
       " 'Duration (ms)']"
      ]
     },
     "execution_count": 84,
     "metadata": {},
     "output_type": "execute_result"
    }
   ],
   "source": [
    "music_orig = pd.read_csv('songs.csv', encoding='ISO-8859-1')\n",
    "# this will be the scraped datase. We need to rename it appropriately later\n",
    "list(music_orig.columns)\n",
    "#music_orig.head()"
   ]
  },
  {
   "cell_type": "code",
   "execution_count": 85,
   "id": "d191895a",
   "metadata": {},
   "outputs": [
    {
     "data": {
      "text/html": [
       "<div>\n",
       "<style scoped>\n",
       "    .dataframe tbody tr th:only-of-type {\n",
       "        vertical-align: middle;\n",
       "    }\n",
       "\n",
       "    .dataframe tbody tr th {\n",
       "        vertical-align: top;\n",
       "    }\n",
       "\n",
       "    .dataframe thead th {\n",
       "        text-align: right;\n",
       "    }\n",
       "</style>\n",
       "<table border=\"1\" class=\"dataframe\">\n",
       "  <thead>\n",
       "    <tr style=\"text-align: right;\">\n",
       "      <th></th>\n",
       "      <th>Danceability</th>\n",
       "      <th>Energy</th>\n",
       "      <th>Key</th>\n",
       "      <th>Loudness</th>\n",
       "      <th>Mode</th>\n",
       "      <th>Speechiness</th>\n",
       "      <th>Acousticness</th>\n",
       "      <th>Instrumentalness</th>\n",
       "      <th>Liveness</th>\n",
       "      <th>Valence</th>\n",
       "      <th>Tempo</th>\n",
       "      <th>Duration (ms)</th>\n",
       "    </tr>\n",
       "  </thead>\n",
       "  <tbody>\n",
       "    <tr>\n",
       "      <th>0</th>\n",
       "      <td>0.574</td>\n",
       "      <td>0.913</td>\n",
       "      <td>6</td>\n",
       "      <td>-4.793</td>\n",
       "      <td>0</td>\n",
       "      <td>0.1330</td>\n",
       "      <td>0.061000</td>\n",
       "      <td>0.001580</td>\n",
       "      <td>0.1560</td>\n",
       "      <td>0.423</td>\n",
       "      <td>115.728</td>\n",
       "      <td>208400</td>\n",
       "    </tr>\n",
       "    <tr>\n",
       "      <th>1</th>\n",
       "      <td>0.601</td>\n",
       "      <td>0.859</td>\n",
       "      <td>5</td>\n",
       "      <td>-5.263</td>\n",
       "      <td>1</td>\n",
       "      <td>0.0276</td>\n",
       "      <td>0.000359</td>\n",
       "      <td>0.001240</td>\n",
       "      <td>0.0871</td>\n",
       "      <td>0.446</td>\n",
       "      <td>125.145</td>\n",
       "      <td>258027</td>\n",
       "    </tr>\n",
       "    <tr>\n",
       "      <th>2</th>\n",
       "      <td>0.933</td>\n",
       "      <td>0.528</td>\n",
       "      <td>5</td>\n",
       "      <td>-6.472</td>\n",
       "      <td>0</td>\n",
       "      <td>0.1620</td>\n",
       "      <td>0.112000</td>\n",
       "      <td>0.329000</td>\n",
       "      <td>0.1630</td>\n",
       "      <td>0.756</td>\n",
       "      <td>109.975</td>\n",
       "      <td>214653</td>\n",
       "    </tr>\n",
       "    <tr>\n",
       "      <th>3</th>\n",
       "      <td>0.662</td>\n",
       "      <td>0.737</td>\n",
       "      <td>0</td>\n",
       "      <td>-9.540</td>\n",
       "      <td>1</td>\n",
       "      <td>0.0296</td>\n",
       "      <td>0.108000</td>\n",
       "      <td>0.019100</td>\n",
       "      <td>0.1190</td>\n",
       "      <td>0.744</td>\n",
       "      <td>103.867</td>\n",
       "      <td>329800</td>\n",
       "    </tr>\n",
       "    <tr>\n",
       "      <th>4</th>\n",
       "      <td>0.579</td>\n",
       "      <td>0.508</td>\n",
       "      <td>2</td>\n",
       "      <td>-9.484</td>\n",
       "      <td>1</td>\n",
       "      <td>0.0270</td>\n",
       "      <td>0.005740</td>\n",
       "      <td>0.000494</td>\n",
       "      <td>0.0575</td>\n",
       "      <td>0.609</td>\n",
       "      <td>147.125</td>\n",
       "      <td>391376</td>\n",
       "    </tr>\n",
       "    <tr>\n",
       "      <th>...</th>\n",
       "      <td>...</td>\n",
       "      <td>...</td>\n",
       "      <td>...</td>\n",
       "      <td>...</td>\n",
       "      <td>...</td>\n",
       "      <td>...</td>\n",
       "      <td>...</td>\n",
       "      <td>...</td>\n",
       "      <td>...</td>\n",
       "      <td>...</td>\n",
       "      <td>...</td>\n",
       "      <td>...</td>\n",
       "    </tr>\n",
       "    <tr>\n",
       "      <th>95</th>\n",
       "      <td>0.445</td>\n",
       "      <td>0.706</td>\n",
       "      <td>8</td>\n",
       "      <td>-9.803</td>\n",
       "      <td>1</td>\n",
       "      <td>0.0461</td>\n",
       "      <td>0.234000</td>\n",
       "      <td>0.000252</td>\n",
       "      <td>0.2050</td>\n",
       "      <td>0.768</td>\n",
       "      <td>80.823</td>\n",
       "      <td>266720</td>\n",
       "    </tr>\n",
       "    <tr>\n",
       "      <th>96</th>\n",
       "      <td>0.309</td>\n",
       "      <td>0.649</td>\n",
       "      <td>7</td>\n",
       "      <td>-8.994</td>\n",
       "      <td>1</td>\n",
       "      <td>0.0350</td>\n",
       "      <td>0.015800</td>\n",
       "      <td>0.005910</td>\n",
       "      <td>0.3670</td>\n",
       "      <td>0.312</td>\n",
       "      <td>166.915</td>\n",
       "      <td>306440</td>\n",
       "    </tr>\n",
       "    <tr>\n",
       "      <th>97</th>\n",
       "      <td>0.686</td>\n",
       "      <td>0.920</td>\n",
       "      <td>2</td>\n",
       "      <td>-6.231</td>\n",
       "      <td>1</td>\n",
       "      <td>0.0566</td>\n",
       "      <td>0.301000</td>\n",
       "      <td>0.270000</td>\n",
       "      <td>0.0807</td>\n",
       "      <td>0.225</td>\n",
       "      <td>135.027</td>\n",
       "      <td>511400</td>\n",
       "    </tr>\n",
       "    <tr>\n",
       "      <th>98</th>\n",
       "      <td>0.336</td>\n",
       "      <td>0.792</td>\n",
       "      <td>9</td>\n",
       "      <td>-10.875</td>\n",
       "      <td>1</td>\n",
       "      <td>0.0840</td>\n",
       "      <td>0.003510</td>\n",
       "      <td>0.001750</td>\n",
       "      <td>0.0437</td>\n",
       "      <td>0.427</td>\n",
       "      <td>155.587</td>\n",
       "      <td>355304</td>\n",
       "    </tr>\n",
       "    <tr>\n",
       "      <th>99</th>\n",
       "      <td>0.573</td>\n",
       "      <td>0.939</td>\n",
       "      <td>8</td>\n",
       "      <td>-6.441</td>\n",
       "      <td>1</td>\n",
       "      <td>0.0808</td>\n",
       "      <td>0.493000</td>\n",
       "      <td>0.000000</td>\n",
       "      <td>0.0994</td>\n",
       "      <td>0.963</td>\n",
       "      <td>137.382</td>\n",
       "      <td>134253</td>\n",
       "    </tr>\n",
       "  </tbody>\n",
       "</table>\n",
       "<p>100 rows × 12 columns</p>\n",
       "</div>"
      ],
      "text/plain": [
       "    Danceability  Energy  Key  Loudness  Mode  Speechiness  Acousticness  \\\n",
       "0          0.574   0.913    6    -4.793     0       0.1330      0.061000   \n",
       "1          0.601   0.859    5    -5.263     1       0.0276      0.000359   \n",
       "2          0.933   0.528    5    -6.472     0       0.1620      0.112000   \n",
       "3          0.662   0.737    0    -9.540     1       0.0296      0.108000   \n",
       "4          0.579   0.508    2    -9.484     1       0.0270      0.005740   \n",
       "..           ...     ...  ...       ...   ...          ...           ...   \n",
       "95         0.445   0.706    8    -9.803     1       0.0461      0.234000   \n",
       "96         0.309   0.649    7    -8.994     1       0.0350      0.015800   \n",
       "97         0.686   0.920    2    -6.231     1       0.0566      0.301000   \n",
       "98         0.336   0.792    9   -10.875     1       0.0840      0.003510   \n",
       "99         0.573   0.939    8    -6.441     1       0.0808      0.493000   \n",
       "\n",
       "    Instrumentalness  Liveness  Valence    Tempo  Duration (ms)  \n",
       "0           0.001580    0.1560    0.423  115.728         208400  \n",
       "1           0.001240    0.0871    0.446  125.145         258027  \n",
       "2           0.329000    0.1630    0.756  109.975         214653  \n",
       "3           0.019100    0.1190    0.744  103.867         329800  \n",
       "4           0.000494    0.0575    0.609  147.125         391376  \n",
       "..               ...       ...      ...      ...            ...  \n",
       "95          0.000252    0.2050    0.768   80.823         266720  \n",
       "96          0.005910    0.3670    0.312  166.915         306440  \n",
       "97          0.270000    0.0807    0.225  135.027         511400  \n",
       "98          0.001750    0.0437    0.427  155.587         355304  \n",
       "99          0.000000    0.0994    0.963  137.382         134253  \n",
       "\n",
       "[100 rows x 12 columns]"
      ]
     },
     "execution_count": 85,
     "metadata": {},
     "output_type": "execute_result"
    }
   ],
   "source": [
    "music = music_orig.drop(columns = ['Name'], axis='columns').dropna()\n",
    "music"
   ]
  },
  {
   "cell_type": "code",
   "execution_count": 86,
   "id": "169a68a9",
   "metadata": {},
   "outputs": [
    {
     "data": {
      "text/html": [
       "<div>\n",
       "<style scoped>\n",
       "    .dataframe tbody tr th:only-of-type {\n",
       "        vertical-align: middle;\n",
       "    }\n",
       "\n",
       "    .dataframe tbody tr th {\n",
       "        vertical-align: top;\n",
       "    }\n",
       "\n",
       "    .dataframe thead th {\n",
       "        text-align: right;\n",
       "    }\n",
       "</style>\n",
       "<table border=\"1\" class=\"dataframe\">\n",
       "  <thead>\n",
       "    <tr style=\"text-align: right;\">\n",
       "      <th></th>\n",
       "      <th>Danceability</th>\n",
       "      <th>Energy</th>\n",
       "      <th>Key</th>\n",
       "      <th>Loudness</th>\n",
       "      <th>Mode</th>\n",
       "      <th>Speechiness</th>\n",
       "      <th>Acousticness</th>\n",
       "      <th>Instrumentalness</th>\n",
       "      <th>Liveness</th>\n",
       "      <th>Valence</th>\n",
       "      <th>Tempo</th>\n",
       "      <th>Duration (ms)</th>\n",
       "    </tr>\n",
       "  </thead>\n",
       "  <tbody>\n",
       "    <tr>\n",
       "      <th>0</th>\n",
       "      <td>0.101927</td>\n",
       "      <td>0.120402</td>\n",
       "      <td>0.094609</td>\n",
       "      <td>-0.057506</td>\n",
       "      <td>0.000000</td>\n",
       "      <td>0.156922</td>\n",
       "      <td>0.028772</td>\n",
       "      <td>0.001081</td>\n",
       "      <td>0.074945</td>\n",
       "      <td>0.067508</td>\n",
       "      <td>0.091409</td>\n",
       "      <td>0.076494</td>\n",
       "    </tr>\n",
       "    <tr>\n",
       "      <th>1</th>\n",
       "      <td>0.106721</td>\n",
       "      <td>0.113280</td>\n",
       "      <td>0.078840</td>\n",
       "      <td>-0.063145</td>\n",
       "      <td>0.114708</td>\n",
       "      <td>0.032564</td>\n",
       "      <td>0.000169</td>\n",
       "      <td>0.000848</td>\n",
       "      <td>0.041845</td>\n",
       "      <td>0.071178</td>\n",
       "      <td>0.098848</td>\n",
       "      <td>0.094709</td>\n",
       "    </tr>\n",
       "    <tr>\n",
       "      <th>2</th>\n",
       "      <td>0.165675</td>\n",
       "      <td>0.069630</td>\n",
       "      <td>0.078840</td>\n",
       "      <td>-0.077650</td>\n",
       "      <td>0.000000</td>\n",
       "      <td>0.191138</td>\n",
       "      <td>0.052827</td>\n",
       "      <td>0.225114</td>\n",
       "      <td>0.078308</td>\n",
       "      <td>0.120652</td>\n",
       "      <td>0.086865</td>\n",
       "      <td>0.078789</td>\n",
       "    </tr>\n",
       "    <tr>\n",
       "      <th>3</th>\n",
       "      <td>0.117553</td>\n",
       "      <td>0.097192</td>\n",
       "      <td>0.000000</td>\n",
       "      <td>-0.114459</td>\n",
       "      <td>0.114708</td>\n",
       "      <td>0.034924</td>\n",
       "      <td>0.050940</td>\n",
       "      <td>0.013069</td>\n",
       "      <td>0.057170</td>\n",
       "      <td>0.118737</td>\n",
       "      <td>0.082041</td>\n",
       "      <td>0.121054</td>\n",
       "    </tr>\n",
       "    <tr>\n",
       "      <th>4</th>\n",
       "      <td>0.102815</td>\n",
       "      <td>0.066992</td>\n",
       "      <td>0.031536</td>\n",
       "      <td>-0.113787</td>\n",
       "      <td>0.114708</td>\n",
       "      <td>0.031856</td>\n",
       "      <td>0.002707</td>\n",
       "      <td>0.000338</td>\n",
       "      <td>0.027624</td>\n",
       "      <td>0.097192</td>\n",
       "      <td>0.116209</td>\n",
       "      <td>0.143655</td>\n",
       "    </tr>\n",
       "  </tbody>\n",
       "</table>\n",
       "</div>"
      ],
      "text/plain": [
       "   Danceability    Energy       Key  Loudness      Mode  Speechiness  \\\n",
       "0      0.101927  0.120402  0.094609 -0.057506  0.000000     0.156922   \n",
       "1      0.106721  0.113280  0.078840 -0.063145  0.114708     0.032564   \n",
       "2      0.165675  0.069630  0.078840 -0.077650  0.000000     0.191138   \n",
       "3      0.117553  0.097192  0.000000 -0.114459  0.114708     0.034924   \n",
       "4      0.102815  0.066992  0.031536 -0.113787  0.114708     0.031856   \n",
       "\n",
       "   Acousticness  Instrumentalness  Liveness   Valence     Tempo  Duration (ms)  \n",
       "0      0.028772          0.001081  0.074945  0.067508  0.091409       0.076494  \n",
       "1      0.000169          0.000848  0.041845  0.071178  0.098848       0.094709  \n",
       "2      0.052827          0.225114  0.078308  0.120652  0.086865       0.078789  \n",
       "3      0.050940          0.013069  0.057170  0.118737  0.082041       0.121054  \n",
       "4      0.002707          0.000338  0.027624  0.097192  0.116209       0.143655  "
      ]
     },
     "execution_count": 86,
     "metadata": {},
     "output_type": "execute_result"
    }
   ],
   "source": [
    "scaled_music = pd.DataFrame(normalize(music, axis=0), columns=music.columns)\n",
    "scaled_music.head()"
   ]
  },
  {
   "cell_type": "code",
   "execution_count": 87,
   "id": "9ee24f6a",
   "metadata": {
    "scrolled": false
   },
   "outputs": [
    {
     "data": {
      "text/plain": [
       "<Axes: >"
      ]
     },
     "execution_count": 87,
     "metadata": {},
     "output_type": "execute_result"
    },
    {
     "data": {
      "image/png": "[encoded data removed]",
      "text/plain": [
       "<Figure size 1200x800 with 2 Axes>"
      ]
     },
     "metadata": {},
     "output_type": "display_data"
    }
   ],
   "source": [
    "plt.figure(figsize = (12,8))\n",
    "scaled_music_corr = scaled_music.corr()\n",
    "maskval = np.tril(scaled_music_corr)\n",
    "sns.heatmap(scaled_music_corr, annot=True, cmap='PRGn', mask=maskval, square=False)"
   ]
  },
  {
   "cell_type": "code",
   "execution_count": 88,
   "id": "88c741b0",
   "metadata": {},
   "outputs": [
    {
     "data": {
      "text/plain": [
       "['Danceability',\n",
       " 'Key',\n",
       " 'Mode',\n",
       " 'Speechiness',\n",
       " 'Acousticness',\n",
       " 'Instrumentalness',\n",
       " 'Liveness',\n",
       " 'Valence',\n",
       " 'Tempo',\n",
       " 'Duration (ms)']"
      ]
     },
     "execution_count": 88,
     "metadata": {},
     "output_type": "execute_result"
    }
   ],
   "source": [
    "scaled_music_corr_abs = scaled_music_corr.abs()\n",
    "\n",
    "to_drop = list()\n",
    "\n",
    "for column in scaled_music_corr_abs.columns:\n",
    "    if scaled_music_corr_abs.loc['Energy', column] < 0.3:\n",
    "        to_drop.append(column)\n",
    "to_drop"
   ]
  },
  {
   "cell_type": "code",
   "execution_count": 89,
   "id": "fb8054ce",
   "metadata": {},
   "outputs": [
    {
     "data": {
      "text/html": [
       "<div>\n",
       "<style scoped>\n",
       "    .dataframe tbody tr th:only-of-type {\n",
       "        vertical-align: middle;\n",
       "    }\n",
       "\n",
       "    .dataframe tbody tr th {\n",
       "        vertical-align: top;\n",
       "    }\n",
       "\n",
       "    .dataframe thead th {\n",
       "        text-align: right;\n",
       "    }\n",
       "</style>\n",
       "<table border=\"1\" class=\"dataframe\">\n",
       "  <thead>\n",
       "    <tr style=\"text-align: right;\">\n",
       "      <th></th>\n",
       "      <th>Loudness</th>\n",
       "      <th>energy_category</th>\n",
       "    </tr>\n",
       "  </thead>\n",
       "  <tbody>\n",
       "    <tr>\n",
       "      <th>0</th>\n",
       "      <td>-0.057506</td>\n",
       "      <td>12.0</td>\n",
       "    </tr>\n",
       "    <tr>\n",
       "      <th>1</th>\n",
       "      <td>-0.063145</td>\n",
       "      <td>11.0</td>\n",
       "    </tr>\n",
       "    <tr>\n",
       "      <th>2</th>\n",
       "      <td>-0.077650</td>\n",
       "      <td>7.0</td>\n",
       "    </tr>\n",
       "    <tr>\n",
       "      <th>3</th>\n",
       "      <td>-0.114459</td>\n",
       "      <td>10.0</td>\n",
       "    </tr>\n",
       "    <tr>\n",
       "      <th>4</th>\n",
       "      <td>-0.113787</td>\n",
       "      <td>7.0</td>\n",
       "    </tr>\n",
       "  </tbody>\n",
       "</table>\n",
       "</div>"
      ],
      "text/plain": [
       "   Loudness  energy_category\n",
       "0 -0.057506             12.0\n",
       "1 -0.063145             11.0\n",
       "2 -0.077650              7.0\n",
       "3 -0.114459             10.0\n",
       "4 -0.113787              7.0"
      ]
     },
     "execution_count": 89,
     "metadata": {},
     "output_type": "execute_result"
    }
   ],
   "source": [
    "scaled_music['energy_category'] = round(scaled_music['Energy'] / 0.01, 0)\n",
    "scaled_music_dataset_first = scaled_music.drop(columns = to_drop, axis = 1)\n",
    "scaled_music_dataset = scaled_music_dataset_first.drop('Energy', axis = 1)\n",
    "scaled_music_dataset.head()"
   ]
  },
  {
   "cell_type": "code",
   "execution_count": 90,
   "id": "1a3dc49c",
   "metadata": {},
   "outputs": [
    {
     "data": {
      "image/png": "[encoded data removed]",
      "text/plain": [
       "<Figure size 511.111x500 with 1 Axes>"
      ]
     },
     "metadata": {},
     "output_type": "display_data"
    }
   ],
   "source": [
    "sns.FacetGrid(scaled_music_dataset, height=5) \\\n",
    "    .map(sns.histplot, 'energy_category', stat = \"density\") \\\n",
    "    .add_legend();"
   ]
  },
  {
   "cell_type": "code",
   "execution_count": 91,
   "id": "33263068",
   "metadata": {},
   "outputs": [
    {
     "data": {
      "text/plain": [
       "<Axes: >"
      ]
     },
     "execution_count": 91,
     "metadata": {},
     "output_type": "execute_result"
    },
    {
     "data": {
      "image/png": "[encoded data removed]",
      "text/plain": [
       "<Figure size 1200x800 with 2 Axes>"
      ]
     },
     "metadata": {},
     "output_type": "display_data"
    }
   ],
   "source": [
    "plt.figure(figsize = (12,8))\n",
    "scaled_music_dataset_corr = scaled_music_dataset.corr()\n",
    "maskval_dataset = np.tril(scaled_music_dataset_corr)\n",
    "sns.heatmap(scaled_music_dataset_corr, annot=True, cmap='PRGn', mask=maskval_dataset)"
   ]
  },
  {
   "cell_type": "code",
   "execution_count": null,
   "id": "72014974",
   "metadata": {},
   "outputs": [],
   "source": []
  },
  {
   "cell_type": "code",
   "execution_count": null,
   "id": "e04e5ba3",
   "metadata": {},
   "outputs": [],
   "source": []
  },
  {
   "cell_type": "markdown",
   "id": "48d5e244",
   "metadata": {},
   "source": [
    "## Part 3.2 - Running the Model\n",
    "This will take the clean data and run the model on it. We will test for the right number of neighbors, and work from there."
   ]
  },
  {
   "cell_type": "code",
   "execution_count": 92,
   "id": "b60cfa92",
   "metadata": {},
   "outputs": [
    {
     "name": "stdout",
     "output_type": "stream",
     "text": [
      "9.7 2.2224747331283523\n"
     ]
    }
   ],
   "source": [
    "average_energy_level = scaled_music_dataset['energy_category'].mean()\n",
    "sd = scaled_music_dataset['energy_category'].std()\n",
    "print(average_energy_level, sd)\n",
    "\n",
    "\n",
    "scaled_music_dataset['energy_category'] = pd.Categorical(scaled_music_dataset['energy_category'])\n",
    "# train, test = train_test_split(scaled_music_dataset, test_size=(10/len(scaled_music_dataset['energy_category'])) , random_state=1)\n",
    "# train, test = train_test_split(scaled_music_dataset, test_size=0.2 , random_state=1) \n",
    "# test_size = 0.001 for our current dataset will change to 0.1 during the actual model for 10-fold validation.\n",
    "# train_size will also be removed.\n",
    "X_train = scaled_music_dataset.drop('energy_category', axis = 1)\n",
    "y_train = scaled_music_dataset['energy_category']\n",
    "# X_test = test.drop('energy_category', axis = 1)\n",
    "# y_test = test['energy_category']\n",
    "\n",
    "# print(y_train.head())"
   ]
  },
  {
   "cell_type": "code",
   "execution_count": 93,
   "id": "e1def226",
   "metadata": {},
   "outputs": [
    {
     "name": "stdout",
     "output_type": "stream",
     "text": [
      "Name\n"
     ]
    }
   ],
   "source": [
    "new_song = pd.read_csv('rand_song.csv', encoding='ISO-8859-1')\n",
    "new_song_name = new_song['Name'].iloc[0]\n",
    "print(new_song_name)\n",
    "new_song = new_song.drop(columns = ['Name'], axis='columns').dropna()\n",
    "new_song = new_song.drop(columns = to_drop, axis = 1)\n",
    "new_song = new_song.drop('Energy', axis = 1)\n",
    "new_song.head()\n",
    "X_test = new_song\n",
    "\n"
   ]
  },
  {
   "cell_type": "code",
   "execution_count": 94,
   "id": "0127725e",
   "metadata": {},
   "outputs": [
    {
     "name": "stdout",
     "output_type": "stream",
     "text": [
      "1 as K gives the best accuracy for 469.99999999999994%\n",
      "Number of Rows: 100\n"
     ]
    }
   ],
   "source": [
    "best_iteration = -1\n",
    "current_highest_accuracy = -1\n",
    "results = {}\n",
    "for i in range(1, len(X_train['Loudness'])):\n",
    "#     print(i, best_iteration, current_highest_accuracy)\n",
    "    neigh = KNeighborsClassifier(n_neighbors=i)\n",
    "    # The model is properly trained here\n",
    "    neigh_fit = neigh.fit(X_train, y_train)\n",
    "    pred = neigh.predict(X_test)\n",
    "#     accuracy_val = accuracy_score(y_test, pred)\n",
    "    accuracy_val = abs(int(pred) - average_energy_level)\n",
    "    results[i] = accuracy_val\n",
    "    if (accuracy_val > current_highest_accuracy):\n",
    "        current_highest_accuracy = accuracy_val\n",
    "        best_iteration = i\n",
    "#         print(\"Iteration updated\", i, best_iteration, current_highest_accuracy)\n",
    "print(\"{} as K gives the best accuracy for {}%\\nNumber of Rows: {}\".format(best_iteration, current_highest_accuracy * 100, len(X_train['Loudness'])))"
   ]
  },
  {
   "cell_type": "code",
   "execution_count": 95,
   "id": "0290fc31",
   "metadata": {},
   "outputs": [
    {
     "data": {
      "text/plain": [
       "[<matplotlib.lines.Line2D at 0x2926838c9a0>]"
      ]
     },
     "execution_count": 95,
     "metadata": {},
     "output_type": "execute_result"
    },
    {
     "data": {
      "image/png": "[encoded data removed]",
      "text/plain": [
       "<Figure size 640x480 with 1 Axes>"
      ]
     },
     "metadata": {},
     "output_type": "display_data"
    }
   ],
   "source": [
    "plt.plot(results.keys(), results.values())"
   ]
  },
  {
   "cell_type": "code",
   "execution_count": 96,
   "id": "e7c68cf6",
   "metadata": {},
   "outputs": [
    {
     "name": "stdout",
     "output_type": "stream",
     "text": [
      "The song Name is not a good fit for the given playlist.\n"
     ]
    }
   ],
   "source": [
    "# Do the final comparison and give the conclusion\n",
    "if (current_highest_accuracy > sd):\n",
    "    print(\"The song {} is not a good fit for the given playlist.\".format(str(new_song_name)))\n",
    "else:\n",
    "    print(\"The song {} is a good fit for the given playlist.\".format(str(new_song_name)))\n",
    "\n"
   ]
  },
  {
   "cell_type": "code",
   "execution_count": null,
   "id": "b5db2ec9",
   "metadata": {},
   "outputs": [],
   "source": [
    "threshold_percentage = 0.1  # 10% difference as threshold\n",
    "\n",
    "# Calculate the threshold value based on the percentage\n",
    "threshold = average_energy_level * threshold_percentage\n",
    "\n",
    "# Compare the current_highest_accuracy with the threshold\n",
    "if current_highest_accuracy > threshold:\n",
    "    print(\"The song {} is not a good fit for the given playlist.\".format(str(new_song_name)))\n",
    "else:\n",
    "    print(\"The song {} is a good fit for the given playlist.\".format(str(new_song_name)))"
   ]
  },
  {
   "cell_type": "code",
   "execution_count": 97,
   "id": "96cc4e3c",
   "metadata": {},
   "outputs": [
    {
     "name": "stdout",
     "output_type": "stream",
     "text": [
      "The song Name is a good fit for the given playlist.\n"
     ]
    }
   ],
   "source": [
    "closest_distance = min(results.values())\n",
    "closest_k = min(results, key=results.get)\n",
    "\n",
    "if closest_distance > sd:\n",
    "    print(\"The song {} is not a good fit for the given playlist.\".format(str(new_song_name)))\n",
    "else:\n",
    "    print(\"The song {} is a good fit for the given playlist.\".format(str(new_song_name)))"
   ]
  },
  {
   "cell_type": "code",
   "execution_count": 98,
   "id": "dcb3e528",
   "metadata": {},
   "outputs": [
    {
     "name": "stdout",
     "output_type": "stream",
     "text": [
      "The song Name is not a good fit for the given playlist.\n"
     ]
    }
   ],
   "source": [
    "closest_distance = min(results.values())\n",
    "closest_k = min(results, key=results.get)\n",
    "\n",
    "closest_accuracy = abs(average_energy_level - closest_distance)\n",
    "\n",
    "if closest_accuracy > sd:\n",
    "    print(\"The song {} is not a good fit for the given playlist.\".format(str(new_song_name)))\n",
    "else:\n",
    "    print(\"The song {} is a good fit for the given playlist.\".format(str(new_song_name)))"
   ]
  },
  {
   "cell_type": "code",
   "execution_count": 99,
   "id": "d450f980",
   "metadata": {},
   "outputs": [
    {
     "name": "stdout",
     "output_type": "stream",
     "text": [
      "The song Name is a good fit for the given playlist.\n"
     ]
    }
   ],
   "source": [
    "closest_accuracy = min(results.values())\n",
    "closest_k = min(results, key=results.get)\n",
    "\n",
    "if closest_accuracy > current_highest_accuracy:\n",
    "    print(\"The song {} is not a good fit for the given playlist.\".format(str(new_song_name)))\n",
    "else:\n",
    "    print(\"The song {} is a good fit for the given playlist.\".format(str(new_song_name)))"
   ]
  }
 ],
 "metadata": {
  "kernelspec": {
   "display_name": "Python 3 (ipykernel)",
   "language": "python",
   "name": "python3"
  },
  "language_info": {
   "codemirror_mode": {
    "name": "ipython",
    "version": 3
   },
   "file_extension": ".py",
   "mimetype": "text/x-python",
   "name": "python",
   "nbconvert_exporter": "python",
   "pygments_lexer": "ipython3",
   "version": "3.10.9"
  }
 },
 "nbformat": 4,
 "nbformat_minor": 5
}
