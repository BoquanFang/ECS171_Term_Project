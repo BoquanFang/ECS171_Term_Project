{
 "cells": [
  {
   "cell_type": "markdown",
   "id": "722d0f66",
   "metadata": {},
   "source": [
    "# Introduction\n",
    "This will essentially be how the final model should look like on the interface. We want to make it so that we can just run this one program to get our entire interface and model. \n",
    "\n",
    "This will keep our project organized when we try to keep the final model."
   ]
  },
  {
   "cell_type": "code",
   "execution_count": 1,
   "id": "bb3aeda6",
   "metadata": {},
   "outputs": [],
   "source": [
    "# Libraries - Any and all libraries should be gathered at the top here\n",
    "\n",
    "import pandas as pd  # dataset\n",
    "import seaborn as sns  #visualization (plottings)\n",
    "import matplotlib.pyplot as plt  #visualization\n",
    "import numpy as np  # arrays, algebra, dealing with numbers\n",
    "from sklearn.preprocessing import normalize\n",
    "from sklearn.model_selection import train_test_split\n",
    "from sklearn.neighbors import KNeighborsClassifier\n",
    "from sklearn.metrics import mean_squared_error, accuracy_score, precision_score, recall_score"
   ]
  },
  {
   "cell_type": "markdown",
   "id": "b8105483",
   "metadata": {},
   "source": [
    "# Part 1 - Interface Design\n",
    "This part is responsible for the look of the interface and where all buttons go. We will worry about this at the end."
   ]
  },
  {
   "cell_type": "code",
   "execution_count": null,
   "id": "53414f50",
   "metadata": {},
   "outputs": [],
   "source": []
  },
  {
   "cell_type": "code",
   "execution_count": null,
   "id": "9c406967",
   "metadata": {},
   "outputs": [],
   "source": []
  },
  {
   "cell_type": "markdown",
   "id": "9230bef1",
   "metadata": {},
   "source": [
    "# Part 2 - Interface Input\n",
    "The first part of the final submission should be taking the link and gathering the song data on the songs from the spotify playlist"
   ]
  },
  {
   "cell_type": "markdown",
   "id": "2548f359",
   "metadata": {},
   "source": [
    "## Part 2.1 --> Taking in the input\n",
    "This section is for reading the link. Create cells under this for code in relation to the link\n",
    "\n",
    "In addition, let's see if we can get the data on a singular song from its spotify link"
   ]
  },
  {
   "cell_type": "code",
   "execution_count": null,
   "id": "04035c3a",
   "metadata": {},
   "outputs": [],
   "source": []
  },
  {
   "cell_type": "markdown",
   "id": "376bcb32",
   "metadata": {},
   "source": [
    "## Part 2.2 - Gathering the data\n",
    "This section is actually using the link and scraping the playlist for the song details (maybe use the API)\n",
    "\n",
    "Additional thought - should we have user verify the playlist the code returns? if this playlist is wrong, how will we deal with that situation?"
   ]
  },
  {
   "cell_type": "code",
   "execution_count": null,
   "id": "17ecc423",
   "metadata": {},
   "outputs": [],
   "source": []
  },
  {
   "cell_type": "markdown",
   "id": "54d9e390",
   "metadata": {},
   "source": [
    "## Part 2.3 - The Scraped Dataset\n",
    "Take the songs from the link and gather their data using the API\n",
    "Not sure if you can scrape only certain information, or if you scrape all the data for the song using the API. We can work around that later. "
   ]
  },
  {
   "cell_type": "code",
   "execution_count": null,
   "id": "f485cb66",
   "metadata": {},
   "outputs": [],
   "source": []
  },
  {
   "cell_type": "markdown",
   "id": "4d14862c",
   "metadata": {},
   "source": [
    "# Part 3 - Cleaning the Data and Running the Model\n",
    "This section is responsible for data cleaning from the orignal dataset (ie. directly from what we scrape). \n",
    "\n",
    "We will then run the KNN model (This will need to be rechanged from when we get part 2 completed from what we have right now)\n",
    "We are taking a prior based on the 20K songs we have. Maybe we can have some bayesian theory here for getting an output. But more on that later. \n",
    "\n",
    "\n",
    "https://towardsdatascience.com/how-to-use-pairwise-correlation-for-robust-feature-selection-20a60ef7d10#:~:text=The%20quickest%20and%20often%20the,numeric%20features%20in%20the%20dataset.\n",
    "\n",
    "This source is useful for later formatting of data. Please do not remove the link."
   ]
  },
  {
   "cell_type": "markdown",
   "id": "59c39f3b",
   "metadata": {},
   "source": [
    "## Part 3.1 - Cleaning the Data for the model features\n",
    "This section is for taking the given dataset, blinding the data, and normalizing it for our necessary means. We will also do this for the test data point (our new song). This is essential for our model to work on any given playlist. We need to make this as ready to accept as many test cases as possible.\n",
    "\n",
    "Essentially, KNN is trained onto the given playlist and then our test data is the new song. If the actual for the Y is not equal to the predicted for the Y, we will say the song is not a good fit for the playlist."
   ]
  },
  {
   "cell_type": "code",
   "execution_count": 2,
   "id": "51d30ab4",
   "metadata": {},
   "outputs": [
    {
     "data": {
      "text/html": [
       "<div>\n",
       "<style scoped>\n",
       "    .dataframe tbody tr th:only-of-type {\n",
       "        vertical-align: middle;\n",
       "    }\n",
       "\n",
       "    .dataframe tbody tr th {\n",
       "        vertical-align: top;\n",
       "    }\n",
       "\n",
       "    .dataframe thead th {\n",
       "        text-align: right;\n",
       "    }\n",
       "</style>\n",
       "<table border=\"1\" class=\"dataframe\">\n",
       "  <thead>\n",
       "    <tr style=\"text-align: right;\">\n",
       "      <th></th>\n",
       "      <th>Unnamed: 0</th>\n",
       "      <th>Artist</th>\n",
       "      <th>Album_type</th>\n",
       "      <th>Danceability</th>\n",
       "      <th>Energy</th>\n",
       "      <th>Key</th>\n",
       "      <th>Loudness</th>\n",
       "      <th>Speechiness</th>\n",
       "      <th>Acousticness</th>\n",
       "      <th>Instrumentalness</th>\n",
       "      <th>Liveness</th>\n",
       "      <th>Valence</th>\n",
       "      <th>Tempo</th>\n",
       "      <th>Duration_ms</th>\n",
       "      <th>Stream</th>\n",
       "    </tr>\n",
       "  </thead>\n",
       "  <tbody>\n",
       "    <tr>\n",
       "      <th>0</th>\n",
       "      <td>0</td>\n",
       "      <td>Gorillaz</td>\n",
       "      <td>album</td>\n",
       "      <td>0.818</td>\n",
       "      <td>0.705</td>\n",
       "      <td>6</td>\n",
       "      <td>-6.679</td>\n",
       "      <td>0.1770</td>\n",
       "      <td>0.008360</td>\n",
       "      <td>0.002330</td>\n",
       "      <td>0.6130</td>\n",
       "      <td>0.772</td>\n",
       "      <td>138.559</td>\n",
       "      <td>222640</td>\n",
       "      <td>1040234854</td>\n",
       "    </tr>\n",
       "    <tr>\n",
       "      <th>1</th>\n",
       "      <td>1</td>\n",
       "      <td>Gorillaz</td>\n",
       "      <td>album</td>\n",
       "      <td>0.676</td>\n",
       "      <td>0.703</td>\n",
       "      <td>8</td>\n",
       "      <td>-5.815</td>\n",
       "      <td>0.0302</td>\n",
       "      <td>0.086900</td>\n",
       "      <td>0.000687</td>\n",
       "      <td>0.0463</td>\n",
       "      <td>0.852</td>\n",
       "      <td>92.761</td>\n",
       "      <td>200173</td>\n",
       "      <td>310083733</td>\n",
       "    </tr>\n",
       "    <tr>\n",
       "      <th>2</th>\n",
       "      <td>2</td>\n",
       "      <td>Gorillaz</td>\n",
       "      <td>single</td>\n",
       "      <td>0.695</td>\n",
       "      <td>0.923</td>\n",
       "      <td>1</td>\n",
       "      <td>-3.930</td>\n",
       "      <td>0.0522</td>\n",
       "      <td>0.042500</td>\n",
       "      <td>0.046900</td>\n",
       "      <td>0.1160</td>\n",
       "      <td>0.551</td>\n",
       "      <td>108.014</td>\n",
       "      <td>215150</td>\n",
       "      <td>63063467</td>\n",
       "    </tr>\n",
       "    <tr>\n",
       "      <th>3</th>\n",
       "      <td>3</td>\n",
       "      <td>Gorillaz</td>\n",
       "      <td>album</td>\n",
       "      <td>0.689</td>\n",
       "      <td>0.739</td>\n",
       "      <td>2</td>\n",
       "      <td>-5.810</td>\n",
       "      <td>0.0260</td>\n",
       "      <td>0.000015</td>\n",
       "      <td>0.509000</td>\n",
       "      <td>0.0640</td>\n",
       "      <td>0.578</td>\n",
       "      <td>120.423</td>\n",
       "      <td>233867</td>\n",
       "      <td>434663559</td>\n",
       "    </tr>\n",
       "    <tr>\n",
       "      <th>4</th>\n",
       "      <td>4</td>\n",
       "      <td>Gorillaz</td>\n",
       "      <td>album</td>\n",
       "      <td>0.663</td>\n",
       "      <td>0.694</td>\n",
       "      <td>10</td>\n",
       "      <td>-8.627</td>\n",
       "      <td>0.1710</td>\n",
       "      <td>0.025300</td>\n",
       "      <td>0.000000</td>\n",
       "      <td>0.0698</td>\n",
       "      <td>0.525</td>\n",
       "      <td>167.953</td>\n",
       "      <td>340920</td>\n",
       "      <td>617259738</td>\n",
       "    </tr>\n",
       "  </tbody>\n",
       "</table>\n",
       "</div>"
      ],
      "text/plain": [
       "   Unnamed: 0    Artist Album_type  Danceability  Energy  Key  Loudness  \\\n",
       "0           0  Gorillaz      album         0.818   0.705    6    -6.679   \n",
       "1           1  Gorillaz      album         0.676   0.703    8    -5.815   \n",
       "2           2  Gorillaz     single         0.695   0.923    1    -3.930   \n",
       "3           3  Gorillaz      album         0.689   0.739    2    -5.810   \n",
       "4           4  Gorillaz      album         0.663   0.694   10    -8.627   \n",
       "\n",
       "   Speechiness  Acousticness  Instrumentalness  Liveness  Valence    Tempo  \\\n",
       "0       0.1770      0.008360          0.002330    0.6130    0.772  138.559   \n",
       "1       0.0302      0.086900          0.000687    0.0463    0.852   92.761   \n",
       "2       0.0522      0.042500          0.046900    0.1160    0.551  108.014   \n",
       "3       0.0260      0.000015          0.509000    0.0640    0.578  120.423   \n",
       "4       0.1710      0.025300          0.000000    0.0698    0.525  167.953   \n",
       "\n",
       "   Duration_ms      Stream  \n",
       "0       222640  1040234854  \n",
       "1       200173   310083733  \n",
       "2       215150    63063467  \n",
       "3       233867   434663559  \n",
       "4       340920   617259738  "
      ]
     },
     "execution_count": 2,
     "metadata": {},
     "output_type": "execute_result"
    }
   ],
   "source": [
    "music_orig = pd.read_csv('Spotify_Youtube.csv') \n",
    "# this will be the scraped datase. We need to rename it appropriately later\n",
    "music_orig.head()"
   ]
  },
  {
   "cell_type": "code",
   "execution_count": 3,
   "id": "d191895a",
   "metadata": {},
   "outputs": [
    {
     "data": {
      "text/html": [
       "<div>\n",
       "<style scoped>\n",
       "    .dataframe tbody tr th:only-of-type {\n",
       "        vertical-align: middle;\n",
       "    }\n",
       "\n",
       "    .dataframe tbody tr th {\n",
       "        vertical-align: top;\n",
       "    }\n",
       "\n",
       "    .dataframe thead th {\n",
       "        text-align: right;\n",
       "    }\n",
       "</style>\n",
       "<table border=\"1\" class=\"dataframe\">\n",
       "  <thead>\n",
       "    <tr style=\"text-align: right;\">\n",
       "      <th></th>\n",
       "      <th>Danceability</th>\n",
       "      <th>Energy</th>\n",
       "      <th>Key</th>\n",
       "      <th>Loudness</th>\n",
       "      <th>Speechiness</th>\n",
       "      <th>Acousticness</th>\n",
       "      <th>Instrumentalness</th>\n",
       "      <th>Liveness</th>\n",
       "      <th>Valence</th>\n",
       "      <th>Tempo</th>\n",
       "      <th>Duration_ms</th>\n",
       "      <th>Stream</th>\n",
       "    </tr>\n",
       "  </thead>\n",
       "  <tbody>\n",
       "    <tr>\n",
       "      <th>0</th>\n",
       "      <td>0.818</td>\n",
       "      <td>0.705</td>\n",
       "      <td>6</td>\n",
       "      <td>-6.679</td>\n",
       "      <td>0.1770</td>\n",
       "      <td>0.008360</td>\n",
       "      <td>0.002330</td>\n",
       "      <td>0.6130</td>\n",
       "      <td>0.772</td>\n",
       "      <td>138.559</td>\n",
       "      <td>222640</td>\n",
       "      <td>1040234854</td>\n",
       "    </tr>\n",
       "    <tr>\n",
       "      <th>1</th>\n",
       "      <td>0.676</td>\n",
       "      <td>0.703</td>\n",
       "      <td>8</td>\n",
       "      <td>-5.815</td>\n",
       "      <td>0.0302</td>\n",
       "      <td>0.086900</td>\n",
       "      <td>0.000687</td>\n",
       "      <td>0.0463</td>\n",
       "      <td>0.852</td>\n",
       "      <td>92.761</td>\n",
       "      <td>200173</td>\n",
       "      <td>310083733</td>\n",
       "    </tr>\n",
       "    <tr>\n",
       "      <th>2</th>\n",
       "      <td>0.695</td>\n",
       "      <td>0.923</td>\n",
       "      <td>1</td>\n",
       "      <td>-3.930</td>\n",
       "      <td>0.0522</td>\n",
       "      <td>0.042500</td>\n",
       "      <td>0.046900</td>\n",
       "      <td>0.1160</td>\n",
       "      <td>0.551</td>\n",
       "      <td>108.014</td>\n",
       "      <td>215150</td>\n",
       "      <td>63063467</td>\n",
       "    </tr>\n",
       "    <tr>\n",
       "      <th>3</th>\n",
       "      <td>0.689</td>\n",
       "      <td>0.739</td>\n",
       "      <td>2</td>\n",
       "      <td>-5.810</td>\n",
       "      <td>0.0260</td>\n",
       "      <td>0.000015</td>\n",
       "      <td>0.509000</td>\n",
       "      <td>0.0640</td>\n",
       "      <td>0.578</td>\n",
       "      <td>120.423</td>\n",
       "      <td>233867</td>\n",
       "      <td>434663559</td>\n",
       "    </tr>\n",
       "    <tr>\n",
       "      <th>4</th>\n",
       "      <td>0.663</td>\n",
       "      <td>0.694</td>\n",
       "      <td>10</td>\n",
       "      <td>-8.627</td>\n",
       "      <td>0.1710</td>\n",
       "      <td>0.025300</td>\n",
       "      <td>0.000000</td>\n",
       "      <td>0.0698</td>\n",
       "      <td>0.525</td>\n",
       "      <td>167.953</td>\n",
       "      <td>340920</td>\n",
       "      <td>617259738</td>\n",
       "    </tr>\n",
       "  </tbody>\n",
       "</table>\n",
       "</div>"
      ],
      "text/plain": [
       "   Danceability  Energy  Key  Loudness  Speechiness  Acousticness  \\\n",
       "0         0.818   0.705    6    -6.679       0.1770      0.008360   \n",
       "1         0.676   0.703    8    -5.815       0.0302      0.086900   \n",
       "2         0.695   0.923    1    -3.930       0.0522      0.042500   \n",
       "3         0.689   0.739    2    -5.810       0.0260      0.000015   \n",
       "4         0.663   0.694   10    -8.627       0.1710      0.025300   \n",
       "\n",
       "   Instrumentalness  Liveness  Valence    Tempo  Duration_ms      Stream  \n",
       "0          0.002330    0.6130    0.772  138.559       222640  1040234854  \n",
       "1          0.000687    0.0463    0.852   92.761       200173   310083733  \n",
       "2          0.046900    0.1160    0.551  108.014       215150    63063467  \n",
       "3          0.509000    0.0640    0.578  120.423       233867   434663559  \n",
       "4          0.000000    0.0698    0.525  167.953       340920   617259738  "
      ]
     },
     "execution_count": 3,
     "metadata": {},
     "output_type": "execute_result"
    }
   ],
   "source": [
    "music = music_orig.drop(columns = ['Unnamed: 0', 'Artist', 'Album_type'], axis='columns')\n",
    "music.head()"
   ]
  },
  {
   "cell_type": "code",
   "execution_count": 4,
   "id": "169a68a9",
   "metadata": {},
   "outputs": [
    {
     "data": {
      "text/html": [
       "<div>\n",
       "<style scoped>\n",
       "    .dataframe tbody tr th:only-of-type {\n",
       "        vertical-align: middle;\n",
       "    }\n",
       "\n",
       "    .dataframe tbody tr th {\n",
       "        vertical-align: top;\n",
       "    }\n",
       "\n",
       "    .dataframe thead th {\n",
       "        text-align: right;\n",
       "    }\n",
       "</style>\n",
       "<table border=\"1\" class=\"dataframe\">\n",
       "  <thead>\n",
       "    <tr style=\"text-align: right;\">\n",
       "      <th></th>\n",
       "      <th>Danceability</th>\n",
       "      <th>Energy</th>\n",
       "      <th>Key</th>\n",
       "      <th>Loudness</th>\n",
       "      <th>Speechiness</th>\n",
       "      <th>Acousticness</th>\n",
       "      <th>Instrumentalness</th>\n",
       "      <th>Liveness</th>\n",
       "      <th>Valence</th>\n",
       "      <th>Tempo</th>\n",
       "      <th>Duration_ms</th>\n",
       "      <th>Stream</th>\n",
       "    </tr>\n",
       "  </thead>\n",
       "  <tbody>\n",
       "    <tr>\n",
       "      <th>0</th>\n",
       "      <td>0.008976</td>\n",
       "      <td>0.007412</td>\n",
       "      <td>0.006620</td>\n",
       "      <td>-0.005265</td>\n",
       "      <td>0.008705</td>\n",
       "      <td>1.440425e-04</td>\n",
       "      <td>0.000082</td>\n",
       "      <td>0.016888</td>\n",
       "      <td>0.009322</td>\n",
       "      <td>0.007861</td>\n",
       "      <td>0.006097</td>\n",
       "      <td>0.026231</td>\n",
       "    </tr>\n",
       "    <tr>\n",
       "      <th>1</th>\n",
       "      <td>0.007418</td>\n",
       "      <td>0.007391</td>\n",
       "      <td>0.008827</td>\n",
       "      <td>-0.004583</td>\n",
       "      <td>0.001485</td>\n",
       "      <td>1.497283e-03</td>\n",
       "      <td>0.000024</td>\n",
       "      <td>0.001276</td>\n",
       "      <td>0.010288</td>\n",
       "      <td>0.005262</td>\n",
       "      <td>0.005482</td>\n",
       "      <td>0.007819</td>\n",
       "    </tr>\n",
       "    <tr>\n",
       "      <th>2</th>\n",
       "      <td>0.007626</td>\n",
       "      <td>0.009704</td>\n",
       "      <td>0.001103</td>\n",
       "      <td>-0.003098</td>\n",
       "      <td>0.002567</td>\n",
       "      <td>7.322732e-04</td>\n",
       "      <td>0.001647</td>\n",
       "      <td>0.003196</td>\n",
       "      <td>0.006653</td>\n",
       "      <td>0.006128</td>\n",
       "      <td>0.005892</td>\n",
       "      <td>0.001590</td>\n",
       "    </tr>\n",
       "    <tr>\n",
       "      <th>3</th>\n",
       "      <td>0.007561</td>\n",
       "      <td>0.007769</td>\n",
       "      <td>0.002207</td>\n",
       "      <td>-0.004580</td>\n",
       "      <td>0.001279</td>\n",
       "      <td>2.601724e-07</td>\n",
       "      <td>0.017871</td>\n",
       "      <td>0.001763</td>\n",
       "      <td>0.006979</td>\n",
       "      <td>0.006832</td>\n",
       "      <td>0.006405</td>\n",
       "      <td>0.010961</td>\n",
       "    </tr>\n",
       "    <tr>\n",
       "      <th>4</th>\n",
       "      <td>0.007275</td>\n",
       "      <td>0.007296</td>\n",
       "      <td>0.011034</td>\n",
       "      <td>-0.006800</td>\n",
       "      <td>0.008410</td>\n",
       "      <td>4.359180e-04</td>\n",
       "      <td>0.000000</td>\n",
       "      <td>0.001923</td>\n",
       "      <td>0.006339</td>\n",
       "      <td>0.009528</td>\n",
       "      <td>0.009337</td>\n",
       "      <td>0.015565</td>\n",
       "    </tr>\n",
       "  </tbody>\n",
       "</table>\n",
       "</div>"
      ],
      "text/plain": [
       "   Danceability    Energy       Key  Loudness  Speechiness  Acousticness  \\\n",
       "0      0.008976  0.007412  0.006620 -0.005265     0.008705  1.440425e-04   \n",
       "1      0.007418  0.007391  0.008827 -0.004583     0.001485  1.497283e-03   \n",
       "2      0.007626  0.009704  0.001103 -0.003098     0.002567  7.322732e-04   \n",
       "3      0.007561  0.007769  0.002207 -0.004580     0.001279  2.601724e-07   \n",
       "4      0.007275  0.007296  0.011034 -0.006800     0.008410  4.359180e-04   \n",
       "\n",
       "   Instrumentalness  Liveness   Valence     Tempo  Duration_ms    Stream  \n",
       "0          0.000082  0.016888  0.009322  0.007861     0.006097  0.026231  \n",
       "1          0.000024  0.001276  0.010288  0.005262     0.005482  0.007819  \n",
       "2          0.001647  0.003196  0.006653  0.006128     0.005892  0.001590  \n",
       "3          0.017871  0.001763  0.006979  0.006832     0.006405  0.010961  \n",
       "4          0.000000  0.001923  0.006339  0.009528     0.009337  0.015565  "
      ]
     },
     "execution_count": 4,
     "metadata": {},
     "output_type": "execute_result"
    }
   ],
   "source": [
    "scaled_music = pd.DataFrame(normalize(music, axis=0), columns=music.columns)\n",
    "scaled_music.head()"
   ]
  },
  {
   "cell_type": "code",
   "execution_count": 5,
   "id": "9ee24f6a",
   "metadata": {
    "scrolled": false
   },
   "outputs": [
    {
     "data": {
      "text/plain": [
       "<AxesSubplot: >"
      ]
     },
     "execution_count": 5,
     "metadata": {},
     "output_type": "execute_result"
    },
    {
     "data": {
      "image/png": "[encoded data removed]",
      "text/plain": [
       "<Figure size 1200x800 with 2 Axes>"
      ]
     },
     "metadata": {},
     "output_type": "display_data"
    }
   ],
   "source": [
    "plt.figure(figsize = (12,8))\n",
    "scaled_music_corr = scaled_music.corr()\n",
    "maskval = np.tril(scaled_music_corr)\n",
    "sns.heatmap(scaled_music_corr, annot=True, cmap='PRGn', mask=maskval, square=False)"
   ]
  },
  {
   "cell_type": "code",
   "execution_count": 6,
   "id": "88c741b0",
   "metadata": {},
   "outputs": [
    {
     "data": {
      "text/plain": [
       "['Danceability',\n",
       " 'Key',\n",
       " 'Speechiness',\n",
       " 'Liveness',\n",
       " 'Tempo',\n",
       " 'Duration_ms',\n",
       " 'Stream']"
      ]
     },
     "execution_count": 6,
     "metadata": {},
     "output_type": "execute_result"
    }
   ],
   "source": [
    "scaled_music_corr_abs = scaled_music_corr.abs()\n",
    "\n",
    "\n",
    "## to_drop = set()\n",
    "## for column in reduced_matrix.columns:\n",
    "##     for index in reduced_matrix.index:\n",
    "##         if reduced_matrix.loc[index, column] > 0.9:\n",
    "##             to_drop.add(column)\n",
    "\n",
    "to_drop = list()\n",
    "\n",
    "for column in scaled_music_corr_abs.columns:\n",
    "    if scaled_music_corr_abs.loc['Energy', column] < 0.3:\n",
    "        to_drop.append(column)\n",
    "to_drop"
   ]
  },
  {
   "cell_type": "code",
   "execution_count": 7,
   "id": "fb8054ce",
   "metadata": {},
   "outputs": [
    {
     "data": {
      "text/html": [
       "<div>\n",
       "<style scoped>\n",
       "    .dataframe tbody tr th:only-of-type {\n",
       "        vertical-align: middle;\n",
       "    }\n",
       "\n",
       "    .dataframe tbody tr th {\n",
       "        vertical-align: top;\n",
       "    }\n",
       "\n",
       "    .dataframe thead th {\n",
       "        text-align: right;\n",
       "    }\n",
       "</style>\n",
       "<table border=\"1\" class=\"dataframe\">\n",
       "  <thead>\n",
       "    <tr style=\"text-align: right;\">\n",
       "      <th></th>\n",
       "      <th>Loudness</th>\n",
       "      <th>Acousticness</th>\n",
       "      <th>Instrumentalness</th>\n",
       "      <th>Valence</th>\n",
       "      <th>energy_category</th>\n",
       "    </tr>\n",
       "  </thead>\n",
       "  <tbody>\n",
       "    <tr>\n",
       "      <th>0</th>\n",
       "      <td>-0.005265</td>\n",
       "      <td>1.440425e-04</td>\n",
       "      <td>0.000082</td>\n",
       "      <td>0.009322</td>\n",
       "      <td>3.0</td>\n",
       "    </tr>\n",
       "    <tr>\n",
       "      <th>1</th>\n",
       "      <td>-0.004583</td>\n",
       "      <td>1.497283e-03</td>\n",
       "      <td>0.000024</td>\n",
       "      <td>0.010288</td>\n",
       "      <td>3.0</td>\n",
       "    </tr>\n",
       "    <tr>\n",
       "      <th>2</th>\n",
       "      <td>-0.003098</td>\n",
       "      <td>7.322732e-04</td>\n",
       "      <td>0.001647</td>\n",
       "      <td>0.006653</td>\n",
       "      <td>4.0</td>\n",
       "    </tr>\n",
       "    <tr>\n",
       "      <th>3</th>\n",
       "      <td>-0.004580</td>\n",
       "      <td>2.601724e-07</td>\n",
       "      <td>0.017871</td>\n",
       "      <td>0.006979</td>\n",
       "      <td>3.0</td>\n",
       "    </tr>\n",
       "    <tr>\n",
       "      <th>4</th>\n",
       "      <td>-0.006800</td>\n",
       "      <td>4.359180e-04</td>\n",
       "      <td>0.000000</td>\n",
       "      <td>0.006339</td>\n",
       "      <td>3.0</td>\n",
       "    </tr>\n",
       "  </tbody>\n",
       "</table>\n",
       "</div>"
      ],
      "text/plain": [
       "   Loudness  Acousticness  Instrumentalness   Valence  energy_category\n",
       "0 -0.005265  1.440425e-04          0.000082  0.009322              3.0\n",
       "1 -0.004583  1.497283e-03          0.000024  0.010288              3.0\n",
       "2 -0.003098  7.322732e-04          0.001647  0.006653              4.0\n",
       "3 -0.004580  2.601724e-07          0.017871  0.006979              3.0\n",
       "4 -0.006800  4.359180e-04          0.000000  0.006339              3.0"
      ]
     },
     "execution_count": 7,
     "metadata": {},
     "output_type": "execute_result"
    }
   ],
   "source": [
    "scaled_music['energy_category'] = scaled_music['Energy'] // 0.002\n",
    "scaled_music_dataset_first = scaled_music.drop(columns = to_drop, axis = 1)\n",
    "scaled_music_dataset = scaled_music_dataset_first.drop('Energy', axis = 1)\n",
    "scaled_music_dataset.head()"
   ]
  },
  {
   "cell_type": "code",
   "execution_count": null,
   "id": "33263068",
   "metadata": {},
   "outputs": [],
   "source": []
  },
  {
   "cell_type": "code",
   "execution_count": null,
   "id": "72014974",
   "metadata": {},
   "outputs": [],
   "source": []
  },
  {
   "cell_type": "code",
   "execution_count": null,
   "id": "e04e5ba3",
   "metadata": {},
   "outputs": [],
   "source": []
  },
  {
   "cell_type": "markdown",
   "id": "48d5e244",
   "metadata": {},
   "source": [
    "## Part 3.2 - Running the Model\n",
    "This will take the clean data and run the model on it. We will test for the right number of neighbors, and work from there."
   ]
  },
  {
   "cell_type": "code",
   "execution_count": 8,
   "id": "b60cfa92",
   "metadata": {},
   "outputs": [],
   "source": [
    "train, test = train_test_split(scaled_music_dataset, test_size=0.001, train_size = 0.1, random_state=1) \n",
    "# test_size = 0.001 for our current dataset will change to 0.1 during the actual model for 10-fold validation.\n",
    "# train_size will also be removed.\n",
    "X_train = train.drop('energy_category', axis = 1)\n",
    "y_train = train['energy_category']\n",
    "X_test = test.drop('energy_category', axis = 1)\n",
    "y_test = test['energy_category']\n"
   ]
  },
  {
   "cell_type": "code",
   "execution_count": 9,
   "id": "0127725e",
   "metadata": {},
   "outputs": [
    {
     "name": "stdout",
     "output_type": "stream",
     "text": [
      "20 as K gives the best accuracy for 0.5238095238095238\n"
     ]
    }
   ],
   "source": [
    "best_iteration = 0\n",
    "current_highest_accuracy = 0\n",
    "results = {}\n",
    "for i in range(1, len(X_train['Loudness'])//20):\n",
    "    neigh = KNeighborsClassifier(n_neighbors=i)\n",
    "    # The model is properly trained here\n",
    "    neigh_fit = neigh.fit(X_train, y_train)\n",
    "    pred = neigh.predict(X_test)\n",
    "    accuracy_val = accuracy_score(y_test, pred)\n",
    "    results[i] = accuracy_val\n",
    "    if (accuracy_val > current_highest_accuracy):\n",
    "        current_highest_accuracy = accuracy_val\n",
    "        best_iteration = i\n",
    "print(\"{} as K gives the best accuracy for {}\".format(best_iteration, current_highest_accuracy))"
   ]
  },
  {
   "cell_type": "code",
   "execution_count": 10,
   "id": "0290fc31",
   "metadata": {},
   "outputs": [
    {
     "data": {
      "text/plain": [
       "[<matplotlib.lines.Line2D at 0x125fdded0>]"
      ]
     },
     "execution_count": 10,
     "metadata": {},
     "output_type": "execute_result"
    },
    {
     "data": {
      "image/png": "[encoded data removed]",
      "text/plain": [
       "<Figure size 640x480 with 1 Axes>"
      ]
     },
     "metadata": {},
     "output_type": "display_data"
    }
   ],
   "source": [
    "plt.plot(results.keys(), results.values())"
   ]
  },
  {
   "cell_type": "code",
   "execution_count": null,
   "id": "e7c68cf6",
   "metadata": {},
   "outputs": [],
   "source": []
  }
 ],
 "metadata": {
  "kernelspec": {
   "display_name": "Python 3 (ipykernel)",
   "language": "python",
   "name": "python3"
  },
  "language_info": {
   "codemirror_mode": {
    "name": "ipython",
    "version": 3
   },
   "file_extension": ".py",
   "mimetype": "text/x-python",
   "name": "python",
   "nbconvert_exporter": "python",
   "pygments_lexer": "ipython3",
   "version": "3.11.0"
  }
 },
 "nbformat": 4,
 "nbformat_minor": 5
}
